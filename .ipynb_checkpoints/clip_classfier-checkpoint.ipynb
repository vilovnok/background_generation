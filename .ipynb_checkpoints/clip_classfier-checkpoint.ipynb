{
 "cells": [
  {
   "cell_type": "markdown",
   "id": "f6d9ef7d-b763-4840-bcec-a1ae36ea38ed",
   "metadata": {},
   "source": [
    "# Clip Classfier\n",
    "___\n",
    "Sep 10, 2024"
   ]
  },
  {
   "cell_type": "code",
   "execution_count": 1,
   "id": "43a09b22-904e-4f76-80b4-fc344fbf807a",
   "metadata": {},
   "outputs": [
    {
     "name": "stderr",
     "output_type": "stream",
     "text": [
      "/mnt/tank/scratch/rgurtsiev/miniconda3/envs/my_env/lib/python3.10/site-packages/timm/models/layers/__init__.py:48: FutureWarning: Importing from timm.models.layers is deprecated, please import via timm.layers\n",
      "  warnings.warn(f\"Importing from {__name__} is deprecated, please import via timm.layers\", FutureWarning)\n"
     ]
    }
   ],
   "source": [
    "import os\n",
    "import torch\n",
    "import torch.nn.functional as F\n",
    "from loguru import logger\n",
    "from open_clip import create_model_from_pretrained, get_tokenizer\n",
    "from PIL import Image\n",
    "\n",
    "from dotenv import load_dotenv"
   ]
  },
  {
   "cell_type": "code",
   "execution_count": 2,
   "id": "3754b1cd-a864-4efb-bb8a-a482c9634f3e",
   "metadata": {},
   "outputs": [],
   "source": [
    "# load_dotenv()\n",
    "\n",
    "device = torch.device(\"cuda:0\") # os.getenv(\"device\")\n",
    "model = \"hf-hub:timm/ViT-SO400M-14-SigLIP\" # os.getenv(\"model\")\n",
    "\n",
    "\n",
    "\n",
    "# with open('data.json', 'r') as f:\n",
    "#     data = json.load(f)\n",
    "\n",
    "data = {\n",
    "    \"indoor\": [\n",
    "        \"in a living room\",\n",
    "        \"in a bathroom\",\n",
    "        \"in the kitchen in the Art Nouveau style\",\n",
    "        \"in front of a large bay window in a library with a stained-glass ceiling\",\n",
    "        \"in a majestic library with high ceilings and ornate chandeliers\",\n",
    "        \"in a cozy library with a fireplace\",\n",
    "        \"in a cozy dining room, with a warm fireplace\",\n",
    "        \"in a country-style dining room with a view of a garden\"\n",
    "    ],\n",
    "    \"outdoor\": [\n",
    "        \"next to the house on the grass\",\n",
    "        \"in the middle of the barbecue area\",\n",
    "        \"on the outdoor terrace\",\n",
    "        \"placed in a gazebo adorned with climbing vines\",\n",
    "        \"in a charming gazebo, bathed in warm sunlight\",\n",
    "        \"under a blooming cherry tree in a lush garden\",\n",
    "        \"on a sun-drenched patio surrounded by colorful flowers\"\n",
    "    ],\n",
    "    \"heuristics\": {\n",
    "        \"chair\": [\n",
    "            0.55,\n",
    "            1.0\n",
    "        ],\n",
    "        \"table\": [\n",
    "            0.55,\n",
    "            1.0\n",
    "        ],\n",
    "        \"sofa\": [\n",
    "            0.55,\n",
    "            1.0\n",
    "        ],\n",
    "        \"bed\": [\n",
    "            0.55,\n",
    "            1.0\n",
    "        ],\n",
    "        \"lamp\": [\n",
    "            0.55,\n",
    "            1.0\n",
    "        ],\n",
    "        \"simple chandelier\": [\n",
    "            0.45,\n",
    "            0.0\n",
    "        ],\n",
    "        \"modern chandelier\": [\n",
    "            0.45,\n",
    "            0.0\n",
    "        ],\n",
    "        \"vintage chandelier\": [\n",
    "            0.45,\n",
    "            0.0\n",
    "        ],\n",
    "        \"table\": [\n",
    "            0.55,\n",
    "            1.0\n",
    "        ],\n",
    "        \"lounge chair\": [\n",
    "            0.55,\n",
    "            1.0\n",
    "        ],\n",
    "        \"beach umbrella\": [\n",
    "            0.55,\n",
    "            0.5\n",
    "        ],\n",
    "        \"swimming pool\": [\n",
    "            0.55,\n",
    "            1.0\n",
    "        ],\n",
    "        \"beach lounger\": [\n",
    "            0.55,\n",
    "            1.0\n",
    "        ],\n",
    "        \"swing\": [\n",
    "            0.55,\n",
    "            1.0\n",
    "        ],\n",
    "        \"hammock\": [\n",
    "            0.55,\n",
    "            1.0\n",
    "        ],\n",
    "        \"hanging chair\": [\n",
    "            0.55,\n",
    "            1.0\n",
    "        ],\n",
    "        \"gazebo\": [\n",
    "            0.55,\n",
    "            1.0\n",
    "        ],\n",
    "        \"grill\": [\n",
    "            0.55,\n",
    "            1.0\n",
    "        ],\n",
    "        \"heating radiator\": [\n",
    "            0.55,\n",
    "            1.0\n",
    "        ]\n",
    "    },\n",
    "    \"clip_data\": {\n",
    "        \"furniture_types\": [\n",
    "            \"chair\",\n",
    "            \"table\",\n",
    "            \"sofa\",\n",
    "            \"bed\",\n",
    "            \"lamp\",\n",
    "            \"simple chandelier\",\n",
    "            \"modern chandelier\",\n",
    "            \"vintage chandelier\",\n",
    "            \"table\",\n",
    "            \"lounge chair\",\n",
    "            \"beach umbrella\",\n",
    "            \"swimming pool\",\n",
    "            \"beach lounger\",\n",
    "            \"swing\",\n",
    "            \"hammock\",\n",
    "            \"hanging chair\",\n",
    "            \"gazebo\",\n",
    "            \"grill\",\n",
    "            \"heating radiator\"\n",
    "        ],\n",
    "        \"furniture_categories\": [\n",
    "            \"garden furniture\",\n",
    "            \"house furniture\",\n",
    "            \"lightning\"\n",
    "        ]\n",
    "    }\n",
    "}"
   ]
  },
  {
   "cell_type": "code",
   "execution_count": 3,
   "id": "b62982b8-6dcd-45be-a314-bd89c38809bc",
   "metadata": {},
   "outputs": [],
   "source": [
    "class ClipClassfier:\n",
    "    def __init__(self, device, model, data: dict[str, list[str]]):\n",
    "        self.furniture_types = data[\"furniture_types\"]\n",
    "        self.model, self.preprocess = create_model_from_pretrained(model)\n",
    "        self.tokenizer = get_tokenizer(model)\n",
    "        self.cat_types = [\"indoor\", \"outdoor\"]\n",
    "        self.furniture_categories = data[\"furniture_categories\"]\n",
    "\n",
    "    def describe_image(self, img):\n",
    "        image = self.preprocess(img).unsqueeze(0)\n",
    "\n",
    "        descriptions = [f\"photo of {item}\" for item in self.furniture_types]\n",
    "        furnitrure_index = self.__get_clip_prediction(image, descriptions)\n",
    "\n",
    "        furniture_description = descriptions[furnitrure_index]\n",
    "        furniture_guess = self.furniture_types[furnitrure_index]\n",
    "        \n",
    "        category_list = [f\"{cat} {furniture_description}\" for cat in self.cat_types]\n",
    "        cat_index = self.__get_clip_prediction(image, category_list)\n",
    "        category_guess = self.cat_types[cat_index]\n",
    "\n",
    "        furniture_cat_prompts = [f\"photo of {item}\" for item in self.furniture_categories]\n",
    "        furniture_cat_index = self.__get_clip_prediction(image, furniture_cat_prompts)\n",
    "        furniture_cat_guess = self.furniture_categories[furniture_cat_index]\n",
    "        \n",
    "        logger.info(f\"Provided item classified as {furniture_guess} which must placed {category_guess}\")\n",
    "        return {\"furniture\": furniture_guess, \"category\": category_guess, \"furniture_category\": furniture_cat_guess}\n",
    "\n",
    "    def __get_clip_prediction(self, image, item_list):\n",
    "        text = self.tokenizer(item_list, context_length=self.model.context_length)\n",
    "        with torch.no_grad(), torch.cuda.amp.autocast():\n",
    "            image_features = self.model.encode_image(image)\n",
    "            text_features = self.model.encode_text(text)\n",
    "            image_features = F.normalize(image_features, dim=-1)\n",
    "            text_features = F.normalize(text_features, dim=-1)\n",
    "            text_probs = torch.sigmoid(\n",
    "                image_features @ text_features.T * self.model.logit_scale.exp() + self.model.logit_bias\n",
    "            )\n",
    "\n",
    "        return text_probs[0].argmax().item()"
   ]
  },
  {
   "cell_type": "code",
   "execution_count": null,
   "id": "5da0f772-23c1-4bf7-942f-4de38143e60b",
   "metadata": {},
   "outputs": [],
   "source": []
  },
  {
   "cell_type": "code",
   "execution_count": 5,
   "id": "a144525a-a504-45a9-9b1e-da4d6a7f398f",
   "metadata": {},
   "outputs": [
    {
     "data": {
      "application/vnd.jupyter.widget-view+json": {
       "model_id": "2858b7debc764f8e9dd323807ece5dbb",
       "version_major": 2,
       "version_minor": 0
      },
      "text/plain": [
       "open_clip_pytorch_model.bin:   0%|          | 0.00/3.51G [00:00<?, ?B/s]"
      ]
     },
     "metadata": {},
     "output_type": "display_data"
    },
    {
     "data": {
      "application/vnd.jupyter.widget-view+json": {
       "model_id": "69bfe9fd8e254a3d8a987a0c69aac523",
       "version_major": 2,
       "version_minor": 0
      },
      "text/plain": [
       "open_clip_config.json:   0%|          | 0.00/917 [00:00<?, ?B/s]"
      ]
     },
     "metadata": {},
     "output_type": "display_data"
    },
    {
     "data": {
      "application/vnd.jupyter.widget-view+json": {
       "model_id": "c5ea44c1dbfd41aaba8e27b57cddf8c2",
       "version_major": 2,
       "version_minor": 0
      },
      "text/plain": [
       "tokenizer_config.json:   0%|          | 0.00/20.6k [00:00<?, ?B/s]"
      ]
     },
     "metadata": {},
     "output_type": "display_data"
    },
    {
     "data": {
      "application/vnd.jupyter.widget-view+json": {
       "model_id": "bc3d667919af4871853617249e4fedf8",
       "version_major": 2,
       "version_minor": 0
      },
      "text/plain": [
       "tokenizer.json:   0%|          | 0.00/2.42M [00:00<?, ?B/s]"
      ]
     },
     "metadata": {},
     "output_type": "display_data"
    },
    {
     "data": {
      "application/vnd.jupyter.widget-view+json": {
       "model_id": "b58d97ec6ff84c19827f078c7df42fde",
       "version_major": 2,
       "version_minor": 0
      },
      "text/plain": [
       "special_tokens_map.json:   0%|          | 0.00/2.20k [00:00<?, ?B/s]"
      ]
     },
     "metadata": {},
     "output_type": "display_data"
    }
   ],
   "source": [
    "preprocessor = ClipClassfier(device, model, data['clip_data'])"
   ]
  },
  {
   "cell_type": "code",
   "execution_count": 6,
   "id": "e335ffc0-a99b-4bca-9d1a-b07e6d729af9",
   "metadata": {},
   "outputs": [
    {
     "data": {
      "text/plain": [
       "<__main__.ClipClassfier at 0x7f7b8a26ff40>"
      ]
     },
     "execution_count": 6,
     "metadata": {},
     "output_type": "execute_result"
    }
   ],
   "source": [
    "img = Image.open(img_path)\n",
    "\n",
    "raw_img = img.copy()\n",
    "item_description = self.clip_clf.describe_image(raw_img)"
   ]
  },
  {
   "cell_type": "code",
   "execution_count": null,
   "id": "1e4d717e-c0e5-486b-8651-b8ec3630d98e",
   "metadata": {},
   "outputs": [],
   "source": []
  },
  {
   "cell_type": "code",
   "execution_count": null,
   "id": "850c7f58-e1ea-45b6-84df-39684e6f68a5",
   "metadata": {},
   "outputs": [],
   "source": []
  },
  {
   "cell_type": "code",
   "execution_count": null,
   "id": "f6d863ea-b2db-4606-8778-de1b5e376a8b",
   "metadata": {},
   "outputs": [],
   "source": []
  },
  {
   "cell_type": "code",
   "execution_count": null,
   "id": "afa8ba7a-3b5f-4a73-91f7-4b3f603006bd",
   "metadata": {},
   "outputs": [],
   "source": []
  },
  {
   "cell_type": "code",
   "execution_count": null,
   "id": "f1a352e8-2812-42d7-8210-9969113db5b2",
   "metadata": {},
   "outputs": [],
   "source": []
  },
  {
   "cell_type": "code",
   "execution_count": null,
   "id": "3561ff61-db0b-4825-81bd-db72a83b8b8e",
   "metadata": {},
   "outputs": [],
   "source": []
  },
  {
   "cell_type": "code",
   "execution_count": null,
   "id": "ff119716-aa57-4995-9da9-23b9185ee2d9",
   "metadata": {},
   "outputs": [],
   "source": []
  },
  {
   "cell_type": "code",
   "execution_count": null,
   "id": "aa67d696-e936-4dd3-945d-0961b9b5c9e0",
   "metadata": {},
   "outputs": [],
   "source": []
  },
  {
   "cell_type": "code",
   "execution_count": null,
   "id": "c9f8fff8-8aff-45e5-ba7e-a22331aff4d6",
   "metadata": {},
   "outputs": [],
   "source": []
  },
  {
   "cell_type": "code",
   "execution_count": null,
   "id": "8b1f4a8a-7c40-475e-b563-1ea8e29587c6",
   "metadata": {},
   "outputs": [],
   "source": []
  },
  {
   "cell_type": "code",
   "execution_count": null,
   "id": "1962b5fb-1a70-4258-9dcb-e88e54575d62",
   "metadata": {},
   "outputs": [],
   "source": []
  },
  {
   "cell_type": "code",
   "execution_count": null,
   "id": "c6b1eef4-faee-4f92-9184-ee71960ef5ba",
   "metadata": {},
   "outputs": [],
   "source": []
  },
  {
   "cell_type": "code",
   "execution_count": null,
   "id": "51cc4631-e94c-4fd9-9647-39018d682d86",
   "metadata": {},
   "outputs": [],
   "source": []
  },
  {
   "cell_type": "code",
   "execution_count": null,
   "id": "b7a56da9-d25f-4f1a-9424-518a64eadb85",
   "metadata": {},
   "outputs": [],
   "source": []
  },
  {
   "cell_type": "code",
   "execution_count": null,
   "id": "0a469536-9754-4185-8843-1369ed59128d",
   "metadata": {},
   "outputs": [],
   "source": []
  },
  {
   "cell_type": "code",
   "execution_count": null,
   "id": "41591cb0-7a87-4940-888a-529f5901c9c5",
   "metadata": {},
   "outputs": [],
   "source": []
  },
  {
   "cell_type": "code",
   "execution_count": null,
   "id": "84172c08-860a-41e8-9d24-651d49070ef7",
   "metadata": {},
   "outputs": [],
   "source": []
  },
  {
   "cell_type": "code",
   "execution_count": null,
   "id": "0c8d5701-2018-41ef-8d64-8e943cdbc532",
   "metadata": {},
   "outputs": [],
   "source": []
  }
 ],
 "metadata": {
  "kernelspec": {
   "display_name": "Python 3 (ipykernel)",
   "language": "python",
   "name": "python3"
  },
  "language_info": {
   "codemirror_mode": {
    "name": "ipython",
    "version": 3
   },
   "file_extension": ".py",
   "mimetype": "text/x-python",
   "name": "python",
   "nbconvert_exporter": "python",
   "pygments_lexer": "ipython3",
   "version": "3.10.15"
  }
 },
 "nbformat": 4,
 "nbformat_minor": 5
}
